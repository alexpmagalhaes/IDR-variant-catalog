{
 "cells": [
  {
   "cell_type": "code",
   "execution_count": null,
   "metadata": {
    "collapsed": true,
    "run_control": {}
   },
   "outputs": [],
   "source": [
    "################################################################################\n",
    "## This script contains the code to reproduce NMD analysis.                   ##\n",
    "## Mensah & Niskanen et al.                                                   ##\n",
    "## Disruption of nucleolar phase separation in human genetic disease 2022     ##\n",
    "## Author: Alexandre P Magalhaes                                              ##\n",
    "################################################################################"
   ]
  },
  {
   "cell_type": "code",
   "execution_count": 1,
   "metadata": {
    "button": false,
    "collapsed": true,
    "deletable": true,
    "new_sheet": false,
    "run_control": {
     "read_only": false
    }
   },
   "outputs": [],
   "source": [
    "from __future__ import print_function\n",
    "import re, gzip, time, itertools, io\n",
    "import sys\n",
    "import pandas as pd\n",
    "import numpy as np\n",
    "import csv\n",
    "import requests\n",
    "from pandarallel import pandarallel"
   ]
  },
  {
   "cell_type": "code",
   "execution_count": 2,
   "metadata": {
    "button": false,
    "collapsed": false,
    "deletable": true,
    "new_sheet": false,
    "run_control": {
     "read_only": false
    }
   },
   "outputs": [
    {
     "name": "stdout",
     "output_type": "stream",
     "text": [
      "<class 'pandas.core.frame.DataFrame'>\n",
      "RangeIndex: 13002 entries, 0 to 13001\n",
      "Columns: 196 entries, Uploaded_variation to gnomAD_SAS_AF\n",
      "dtypes: bool(3), float64(150), int64(9), object(34)\n",
      "memory usage: 19.2+ MB\n"
     ]
    },
    {
     "name": "stderr",
     "output_type": "stream",
     "text": [
      "/var/folders/dd/83fsp94d6_98_nzr92wk_nt5nn0dv6/T/ipykernel_69753/2513011570.py:2: FutureWarning: In a future version of pandas all arguments of DataFrame.drop except for the argument 'labels' will be keyword-only\n",
      "  df = df.drop('NMD', 1)\n"
     ]
    }
   ],
   "source": [
    "df = pd.read_csv('MasterTable_wNMD_wVariantDisease_18012021.csv',low_memory=False)\n",
    "df = df.drop('NMD', 1)\n",
    "df.info()"
   ]
  },
  {
   "cell_type": "code",
   "execution_count": 3,
   "metadata": {
    "button": false,
    "collapsed": false,
    "deletable": true,
    "new_sheet": false,
    "run_control": {
     "read_only": false
    }
   },
   "outputs": [
    {
     "data": {
      "text/html": [
       "<div>\n",
       "<style scoped>\n",
       "    .dataframe tbody tr th:only-of-type {\n",
       "        vertical-align: middle;\n",
       "    }\n",
       "\n",
       "    .dataframe tbody tr th {\n",
       "        vertical-align: top;\n",
       "    }\n",
       "\n",
       "    .dataframe thead th {\n",
       "        text-align: right;\n",
       "    }\n",
       "</style>\n",
       "<table border=\"1\" class=\"dataframe\">\n",
       "  <thead>\n",
       "    <tr style=\"text-align: right;\">\n",
       "      <th></th>\n",
       "      <th>Uploaded_variation</th>\n",
       "      <th>Location</th>\n",
       "      <th>Feature</th>\n",
       "      <th>PepID</th>\n",
       "      <th>Gene</th>\n",
       "      <th>gene_symbol</th>\n",
       "      <th>Sequence</th>\n",
       "      <th>TrueIDRstart</th>\n",
       "      <th>SeqType</th>\n",
       "      <th>seqTypeExp</th>\n",
       "      <th>...</th>\n",
       "      <th>gnomAD_AF</th>\n",
       "      <th>gnomAD_AFR_AF</th>\n",
       "      <th>gnomAD_AMR_AF</th>\n",
       "      <th>gnomAD_ASJ_AF</th>\n",
       "      <th>gnomAD_EAS_AF</th>\n",
       "      <th>gnomAD_FIN_AF</th>\n",
       "      <th>gnomAD_NFE_AF</th>\n",
       "      <th>gnomAD_OTH_AF</th>\n",
       "      <th>gnomAD_SAS_AF</th>\n",
       "      <th>CDS_stop</th>\n",
       "    </tr>\n",
       "  </thead>\n",
       "  <tbody>\n",
       "    <tr>\n",
       "      <th>0</th>\n",
       "      <td>692054</td>\n",
       "      <td>16:86511252-86511259</td>\n",
       "      <td>ENST00000262426</td>\n",
       "      <td>ENSP00000262426</td>\n",
       "      <td>ENSG00000103241</td>\n",
       "      <td>FOXF1</td>\n",
       "      <td>MSSAPEKQQPPHGGGGGGGGGGGAAMDPASSGPSKAKKTNAGIRRP...</td>\n",
       "      <td>207</td>\n",
       "      <td>Frameshift</td>\n",
       "      <td>Frameshift</td>\n",
       "      <td>...</td>\n",
       "      <td>NaN</td>\n",
       "      <td>NaN</td>\n",
       "      <td>NaN</td>\n",
       "      <td>NaN</td>\n",
       "      <td>NaN</td>\n",
       "      <td>NaN</td>\n",
       "      <td>NaN</td>\n",
       "      <td>NaN</td>\n",
       "      <td>NaN</td>\n",
       "      <td>873</td>\n",
       "    </tr>\n",
       "    <tr>\n",
       "      <th>1</th>\n",
       "      <td>1013621</td>\n",
       "      <td>21:34792484-34792490</td>\n",
       "      <td>ENST00000399240</td>\n",
       "      <td>ENSP00000382184</td>\n",
       "      <td>ENSG00000159216</td>\n",
       "      <td>RUNX1</td>\n",
       "      <td>MASDSIFESFPSYPQCFMRECILGMNPSRDVHDASTSRRFTPPSTA...</td>\n",
       "      <td>360</td>\n",
       "      <td>Frameshift</td>\n",
       "      <td>Frameshift</td>\n",
       "      <td>...</td>\n",
       "      <td>NaN</td>\n",
       "      <td>NaN</td>\n",
       "      <td>NaN</td>\n",
       "      <td>NaN</td>\n",
       "      <td>NaN</td>\n",
       "      <td>NaN</td>\n",
       "      <td>NaN</td>\n",
       "      <td>NaN</td>\n",
       "      <td>NaN</td>\n",
       "      <td>1773</td>\n",
       "    </tr>\n",
       "    <tr>\n",
       "      <th>2</th>\n",
       "      <td>rs1057519478</td>\n",
       "      <td>6:1611038-1611056</td>\n",
       "      <td>ENST00000645831</td>\n",
       "      <td>ENSP00000493906</td>\n",
       "      <td>ENSG00000054598</td>\n",
       "      <td>FOXC1</td>\n",
       "      <td>MQARYSVSSPNSLGVVPYLGGEQSYYRAAAAAAGGGYTAMPAPMSV...</td>\n",
       "      <td>141</td>\n",
       "      <td>Frameshift</td>\n",
       "      <td>Frameshift</td>\n",
       "      <td>...</td>\n",
       "      <td>NaN</td>\n",
       "      <td>NaN</td>\n",
       "      <td>NaN</td>\n",
       "      <td>NaN</td>\n",
       "      <td>NaN</td>\n",
       "      <td>NaN</td>\n",
       "      <td>NaN</td>\n",
       "      <td>NaN</td>\n",
       "      <td>NaN</td>\n",
       "      <td>924</td>\n",
       "    </tr>\n",
       "    <tr>\n",
       "      <th>3</th>\n",
       "      <td>rs1179926739</td>\n",
       "      <td>11:17720334-17720335</td>\n",
       "      <td>ENST00000250003</td>\n",
       "      <td>ENSP00000250003</td>\n",
       "      <td>ENSG00000129152</td>\n",
       "      <td>MYOD1</td>\n",
       "      <td>MELLSPPLRDVDLTAPDGSLCSFATTDDFYDDPCFDSPDLRFFEDL...</td>\n",
       "      <td>262</td>\n",
       "      <td>Frameshift</td>\n",
       "      <td>Frameshift</td>\n",
       "      <td>...</td>\n",
       "      <td>NaN</td>\n",
       "      <td>NaN</td>\n",
       "      <td>NaN</td>\n",
       "      <td>NaN</td>\n",
       "      <td>NaN</td>\n",
       "      <td>NaN</td>\n",
       "      <td>NaN</td>\n",
       "      <td>NaN</td>\n",
       "      <td>NaN</td>\n",
       "      <td>831</td>\n",
       "    </tr>\n",
       "    <tr>\n",
       "      <th>4</th>\n",
       "      <td>rs1603388837</td>\n",
       "      <td>18:59269381</td>\n",
       "      <td>ENST00000256852</td>\n",
       "      <td>ENSP00000256852</td>\n",
       "      <td>ENSG00000134438</td>\n",
       "      <td>RAX</td>\n",
       "      <td>MHLPGCAPAMADGSFSLAGHLLRSPGGSTSRLHSIEAILGFTKDDG...</td>\n",
       "      <td>187</td>\n",
       "      <td>Frameshift</td>\n",
       "      <td>Frameshift</td>\n",
       "      <td>...</td>\n",
       "      <td>NaN</td>\n",
       "      <td>NaN</td>\n",
       "      <td>NaN</td>\n",
       "      <td>NaN</td>\n",
       "      <td>NaN</td>\n",
       "      <td>NaN</td>\n",
       "      <td>NaN</td>\n",
       "      <td>NaN</td>\n",
       "      <td>NaN</td>\n",
       "      <td>852</td>\n",
       "    </tr>\n",
       "  </tbody>\n",
       "</table>\n",
       "<p>5 rows × 197 columns</p>\n",
       "</div>"
      ],
      "text/plain": [
       "  Uploaded_variation              Location          Feature            PepID  \\\n",
       "0             692054  16:86511252-86511259  ENST00000262426  ENSP00000262426   \n",
       "1            1013621  21:34792484-34792490  ENST00000399240  ENSP00000382184   \n",
       "2       rs1057519478     6:1611038-1611056  ENST00000645831  ENSP00000493906   \n",
       "3       rs1179926739  11:17720334-17720335  ENST00000250003  ENSP00000250003   \n",
       "4       rs1603388837           18:59269381  ENST00000256852  ENSP00000256852   \n",
       "\n",
       "              Gene gene_symbol  \\\n",
       "0  ENSG00000103241       FOXF1   \n",
       "1  ENSG00000159216       RUNX1   \n",
       "2  ENSG00000054598       FOXC1   \n",
       "3  ENSG00000129152       MYOD1   \n",
       "4  ENSG00000134438         RAX   \n",
       "\n",
       "                                            Sequence  TrueIDRstart  \\\n",
       "0  MSSAPEKQQPPHGGGGGGGGGGGAAMDPASSGPSKAKKTNAGIRRP...           207   \n",
       "1  MASDSIFESFPSYPQCFMRECILGMNPSRDVHDASTSRRFTPPSTA...           360   \n",
       "2  MQARYSVSSPNSLGVVPYLGGEQSYYRAAAAAAGGGYTAMPAPMSV...           141   \n",
       "3  MELLSPPLRDVDLTAPDGSLCSFATTDDFYDDPCFDSPDLRFFEDL...           262   \n",
       "4  MHLPGCAPAMADGSFSLAGHLLRSPGGSTSRLHSIEAILGFTKDDG...           187   \n",
       "\n",
       "      SeqType  seqTypeExp  ... gnomAD_AF gnomAD_AFR_AF gnomAD_AMR_AF  \\\n",
       "0  Frameshift  Frameshift  ...       NaN           NaN           NaN   \n",
       "1  Frameshift  Frameshift  ...       NaN           NaN           NaN   \n",
       "2  Frameshift  Frameshift  ...       NaN           NaN           NaN   \n",
       "3  Frameshift  Frameshift  ...       NaN           NaN           NaN   \n",
       "4  Frameshift  Frameshift  ...       NaN           NaN           NaN   \n",
       "\n",
       "  gnomAD_ASJ_AF  gnomAD_EAS_AF gnomAD_FIN_AF  gnomAD_NFE_AF  gnomAD_OTH_AF  \\\n",
       "0           NaN            NaN           NaN            NaN            NaN   \n",
       "1           NaN            NaN           NaN            NaN            NaN   \n",
       "2           NaN            NaN           NaN            NaN            NaN   \n",
       "3           NaN            NaN           NaN            NaN            NaN   \n",
       "4           NaN            NaN           NaN            NaN            NaN   \n",
       "\n",
       "   gnomAD_SAS_AF  CDS_stop  \n",
       "0            NaN       873  \n",
       "1            NaN      1773  \n",
       "2            NaN       924  \n",
       "3            NaN       831  \n",
       "4            NaN       852  \n",
       "\n",
       "[5 rows x 197 columns]"
      ]
     },
     "execution_count": 3,
     "metadata": {},
     "output_type": "execute_result"
    }
   ],
   "source": [
    "def CDS_stop(x):\n",
    "    lenseq = x['FullLength']\n",
    "    return lenseq * 3 + 3\n",
    "    \n",
    "    \n",
    "    \n",
    "df[\"CDS_stop\"] = df.apply(CDS_stop, axis = 1)\n",
    "df.head()"
   ]
  },
  {
   "cell_type": "code",
   "execution_count": 5,
   "metadata": {
    "button": false,
    "collapsed": false,
    "deletable": true,
    "new_sheet": false,
    "run_control": {
     "read_only": false
    }
   },
   "outputs": [
    {
     "name": "stderr",
     "output_type": "stream",
     "text": [
      "/var/folders/dd/83fsp94d6_98_nzr92wk_nt5nn0dv6/T/ipykernel_69753/3169997365.py:2: FutureWarning: In a future version of pandas all arguments of DataFrame.drop except for the argument 'labels' will be keyword-only\n",
      "  exons = exons.drop('Gene_stable_ID', 1)\n"
     ]
    },
    {
     "data": {
      "text/html": [
       "<div>\n",
       "<style scoped>\n",
       "    .dataframe tbody tr th:only-of-type {\n",
       "        vertical-align: middle;\n",
       "    }\n",
       "\n",
       "    .dataframe tbody tr th {\n",
       "        vertical-align: top;\n",
       "    }\n",
       "\n",
       "    .dataframe thead th {\n",
       "        text-align: right;\n",
       "    }\n",
       "</style>\n",
       "<table border=\"1\" class=\"dataframe\">\n",
       "  <thead>\n",
       "    <tr style=\"text-align: right;\">\n",
       "      <th></th>\n",
       "      <th>Transcript_stable_ID</th>\n",
       "      <th>Exon_region_start</th>\n",
       "      <th>Exon_region_end</th>\n",
       "      <th>Exon_rank_in_transcript</th>\n",
       "      <th>Genomic_coding_start</th>\n",
       "      <th>Genomic_coding_end</th>\n",
       "      <th>cDNA_coding_start</th>\n",
       "      <th>cDNA_coding_end</th>\n",
       "      <th>CDS_start</th>\n",
       "      <th>CDS_end</th>\n",
       "      <th>Protein_stable_ID</th>\n",
       "      <th>Exon_stable_ID</th>\n",
       "      <th>Constitutive_exon</th>\n",
       "    </tr>\n",
       "  </thead>\n",
       "  <tbody>\n",
       "    <tr>\n",
       "      <th>0</th>\n",
       "      <td>ENST00000005286</td>\n",
       "      <td>60924481</td>\n",
       "      <td>60924733</td>\n",
       "      <td>1</td>\n",
       "      <td>60924634.0</td>\n",
       "      <td>60924733.0</td>\n",
       "      <td>154.0</td>\n",
       "      <td>253.0</td>\n",
       "      <td>1.0</td>\n",
       "      <td>100.0</td>\n",
       "      <td>ENSP00000005286</td>\n",
       "      <td>ENSE00002270579</td>\n",
       "      <td>0</td>\n",
       "    </tr>\n",
       "    <tr>\n",
       "      <th>1</th>\n",
       "      <td>ENST00000005286</td>\n",
       "      <td>60927204</td>\n",
       "      <td>60927418</td>\n",
       "      <td>2</td>\n",
       "      <td>60927204.0</td>\n",
       "      <td>60927418.0</td>\n",
       "      <td>254.0</td>\n",
       "      <td>468.0</td>\n",
       "      <td>101.0</td>\n",
       "      <td>315.0</td>\n",
       "      <td>ENSP00000005286</td>\n",
       "      <td>ENSE00003633778</td>\n",
       "      <td>0</td>\n",
       "    </tr>\n",
       "    <tr>\n",
       "      <th>2</th>\n",
       "      <td>ENST00000005286</td>\n",
       "      <td>60927641</td>\n",
       "      <td>60927859</td>\n",
       "      <td>3</td>\n",
       "      <td>60927641.0</td>\n",
       "      <td>60927859.0</td>\n",
       "      <td>469.0</td>\n",
       "      <td>687.0</td>\n",
       "      <td>316.0</td>\n",
       "      <td>534.0</td>\n",
       "      <td>ENSP00000005286</td>\n",
       "      <td>ENSE00003601138</td>\n",
       "      <td>0</td>\n",
       "    </tr>\n",
       "    <tr>\n",
       "      <th>3</th>\n",
       "      <td>ENST00000005286</td>\n",
       "      <td>60928629</td>\n",
       "      <td>60928960</td>\n",
       "      <td>4</td>\n",
       "      <td>60928629.0</td>\n",
       "      <td>60928960.0</td>\n",
       "      <td>688.0</td>\n",
       "      <td>1019.0</td>\n",
       "      <td>535.0</td>\n",
       "      <td>866.0</td>\n",
       "      <td>ENSP00000005286</td>\n",
       "      <td>ENSE00003537152</td>\n",
       "      <td>0</td>\n",
       "    </tr>\n",
       "    <tr>\n",
       "      <th>4</th>\n",
       "      <td>ENST00000005286</td>\n",
       "      <td>60930510</td>\n",
       "      <td>60930659</td>\n",
       "      <td>5</td>\n",
       "      <td>60930510.0</td>\n",
       "      <td>60930659.0</td>\n",
       "      <td>1020.0</td>\n",
       "      <td>1169.0</td>\n",
       "      <td>867.0</td>\n",
       "      <td>1016.0</td>\n",
       "      <td>ENSP00000005286</td>\n",
       "      <td>ENSE00003788120</td>\n",
       "      <td>0</td>\n",
       "    </tr>\n",
       "  </tbody>\n",
       "</table>\n",
       "</div>"
      ],
      "text/plain": [
       "  Transcript_stable_ID  Exon_region_start  Exon_region_end  \\\n",
       "0      ENST00000005286           60924481         60924733   \n",
       "1      ENST00000005286           60927204         60927418   \n",
       "2      ENST00000005286           60927641         60927859   \n",
       "3      ENST00000005286           60928629         60928960   \n",
       "4      ENST00000005286           60930510         60930659   \n",
       "\n",
       "   Exon_rank_in_transcript  Genomic_coding_start  Genomic_coding_end  \\\n",
       "0                        1            60924634.0          60924733.0   \n",
       "1                        2            60927204.0          60927418.0   \n",
       "2                        3            60927641.0          60927859.0   \n",
       "3                        4            60928629.0          60928960.0   \n",
       "4                        5            60930510.0          60930659.0   \n",
       "\n",
       "   cDNA_coding_start  cDNA_coding_end  CDS_start  CDS_end Protein_stable_ID  \\\n",
       "0              154.0            253.0        1.0    100.0   ENSP00000005286   \n",
       "1              254.0            468.0      101.0    315.0   ENSP00000005286   \n",
       "2              469.0            687.0      316.0    534.0   ENSP00000005286   \n",
       "3              688.0           1019.0      535.0    866.0   ENSP00000005286   \n",
       "4             1020.0           1169.0      867.0   1016.0   ENSP00000005286   \n",
       "\n",
       "    Exon_stable_ID  Constitutive_exon  \n",
       "0  ENSE00002270579                  0  \n",
       "1  ENSE00003633778                  0  \n",
       "2  ENSE00003601138                  0  \n",
       "3  ENSE00003537152                  0  \n",
       "4  ENSE00003788120                  0  "
      ]
     },
     "execution_count": 5,
     "metadata": {},
     "output_type": "execute_result"
    }
   ],
   "source": [
    "exons = pd.read_csv('ExonCoordinates.txt',sep = '\\t',low_memory=False)\n",
    "exons = exons.drop('Gene_stable_ID', 1)\n",
    "exons = exons[exons['CDS_start'].notna()]\n",
    "exons.head()"
   ]
  },
  {
   "cell_type": "code",
   "execution_count": null,
   "metadata": {
    "button": false,
    "collapsed": true,
    "deletable": true,
    "new_sheet": false,
    "run_control": {
     "read_only": false
    }
   },
   "outputs": [],
   "source": [
    "def isoneExon(x):\n",
    "    feature = x['Transcript_stable_ID']\n",
    "    exonarray = exons.loc[exons['Transcript_stable_ID'] == feature]\n",
    "    "
   ]
  },
  {
   "cell_type": "code",
   "execution_count": 14,
   "metadata": {
    "button": false,
    "collapsed": false,
    "deletable": true,
    "new_sheet": false,
    "run_control": {
     "read_only": false
    }
   },
   "outputs": [
    {
     "name": "stdout",
     "output_type": "stream",
     "text": [
      "INFO: Pandarallel will run on 11 workers.\n",
      "INFO: Pandarallel will use standard multiprocessing data transfer (pipe) to transfer data between the main process and workers.\n"
     ]
    },
    {
     "data": {
      "application/vnd.jupyter.widget-view+json": {
       "model_id": "c4cc9231a03b4cc78d547c7f4f9e2b10",
       "version_major": 2,
       "version_minor": 0
      },
      "text/plain": [
       "VBox(children=(HBox(children=(IntProgress(value=0, description='0.00%', max=1182), Label(value='0 / 1182'))), …"
      ]
     },
     "metadata": {},
     "output_type": "display_data"
    },
    {
     "name": "stdout",
     "output_type": "stream",
     "text": [
      "6.67624568939209\n"
     ]
    }
   ],
   "source": [
    "pandarallel.initialize(progress_bar=True, nb_workers = 11)\n",
    "\n",
    "def NMD_check(x):\n",
    "    feature = x['Feature']\n",
    "    stop = x['CDS_stop']\n",
    "    exonarray = exons.loc[exons['Transcript_stable_ID'] == feature]\n",
    "    if len(exonarray) == 0:\n",
    "        return \"Empty\"\n",
    "    exonarray = exonarray.values.tolist()\n",
    "    firstexon = exonarray[0]\n",
    "    feStart = firstexon[8]\n",
    "    Constitutive_exon = len(exonarray)\n",
    "    if Constitutive_exon == 1:\n",
    "        return \"NMD_escaping_variant\"\n",
    "    if stop <= 100 :\n",
    "        return \"NMD_escaping_variant\"\n",
    "    lastexon = exonarray[-1]\n",
    "    LEstart = lastexon[8]\n",
    "    LEstop = lastexon[9]\n",
    "    if stop >= LEstart:\n",
    "        return \"NMD_escaping_variant\"\n",
    "    if stop >= LEstop:\n",
    "        return \"NMD_escaping_variant\"\n",
    "    if stop < LEstart:\n",
    "        s2lastExon = exonarray[-2]\n",
    "        s2LEstop = s2lastExon[9]\n",
    "        if stop >= s2LEstop - 51:\n",
    "            return \"NMD_escaping_variant\"\n",
    "            \n",
    "start = time.time()\n",
    "df['NMD_check'] = df.parallel_apply(NMD_check, axis = 1)\n",
    "end = time.time()\n",
    "print(end - start)                                    \n",
    "df.to_csv('MasterTable_wNMD_wVariantDisease_2200511.csv', index=False)"
   ]
  },
  {
   "cell_type": "code",
   "execution_count": 105,
   "metadata": {
    "button": false,
    "collapsed": true,
    "deletable": true,
    "new_sheet": false,
    "run_control": {
     "read_only": false
    }
   },
   "outputs": [],
   "source": [
    "df.to_csv('MasterTable_wNMD_wVariantDisease_220313.csv', index=False)"
   ]
  },
  {
   "cell_type": "code",
   "execution_count": null,
   "metadata": {
    "button": false,
    "collapsed": true,
    "deletable": true,
    "new_sheet": false,
    "run_control": {
     "read_only": false
    }
   },
   "outputs": [],
   "source": [
    "df.to_csv('df.csv', index=False)"
   ]
  },
  {
   "cell_type": "code",
   "execution_count": 7,
   "metadata": {
    "button": false,
    "collapsed": true,
    "deletable": true,
    "new_sheet": false,
    "run_control": {
     "read_only": false
    }
   },
   "outputs": [],
   "source": [
    "feature = 'ENST00000262426'\n",
    "stop = 873\n",
    "exonarray = exons.loc[exons['Transcript_stable_ID'] == feature]"
   ]
  },
  {
   "cell_type": "code",
   "execution_count": 9,
   "metadata": {
    "button": false,
    "collapsed": false,
    "deletable": true,
    "new_sheet": false,
    "run_control": {
     "read_only": false
    }
   },
   "outputs": [
    {
     "data": {
      "text/html": [
       "<div>\n",
       "<style scoped>\n",
       "    .dataframe tbody tr th:only-of-type {\n",
       "        vertical-align: middle;\n",
       "    }\n",
       "\n",
       "    .dataframe tbody tr th {\n",
       "        vertical-align: top;\n",
       "    }\n",
       "\n",
       "    .dataframe thead th {\n",
       "        text-align: right;\n",
       "    }\n",
       "</style>\n",
       "<table border=\"1\" class=\"dataframe\">\n",
       "  <thead>\n",
       "    <tr style=\"text-align: right;\">\n",
       "      <th></th>\n",
       "      <th>Transcript_stable_ID</th>\n",
       "      <th>Exon_region_start</th>\n",
       "      <th>Exon_region_end</th>\n",
       "      <th>Exon_rank_in_transcript</th>\n",
       "      <th>Genomic_coding_start</th>\n",
       "      <th>Genomic_coding_end</th>\n",
       "      <th>cDNA_coding_start</th>\n",
       "      <th>cDNA_coding_end</th>\n",
       "      <th>CDS_start</th>\n",
       "      <th>CDS_end</th>\n",
       "      <th>Protein_stable_ID</th>\n",
       "      <th>Exon_stable_ID</th>\n",
       "      <th>Constitutive_exon</th>\n",
       "    </tr>\n",
       "  </thead>\n",
       "  <tbody>\n",
       "    <tr>\n",
       "      <th>3369</th>\n",
       "      <td>ENST00000262426</td>\n",
       "      <td>86510527</td>\n",
       "      <td>86511548</td>\n",
       "      <td>1</td>\n",
       "      <td>86510570.0</td>\n",
       "      <td>86511548.0</td>\n",
       "      <td>44.0</td>\n",
       "      <td>1022.0</td>\n",
       "      <td>1.0</td>\n",
       "      <td>979.0</td>\n",
       "      <td>ENSP00000262426</td>\n",
       "      <td>ENSE00001286040</td>\n",
       "      <td>1</td>\n",
       "    </tr>\n",
       "    <tr>\n",
       "      <th>3370</th>\n",
       "      <td>ENST00000262426</td>\n",
       "      <td>86512925</td>\n",
       "      <td>86515422</td>\n",
       "      <td>2</td>\n",
       "      <td>86512925.0</td>\n",
       "      <td>86513085.0</td>\n",
       "      <td>1023.0</td>\n",
       "      <td>1183.0</td>\n",
       "      <td>980.0</td>\n",
       "      <td>1140.0</td>\n",
       "      <td>ENSP00000262426</td>\n",
       "      <td>ENSE00001121720</td>\n",
       "      <td>1</td>\n",
       "    </tr>\n",
       "  </tbody>\n",
       "</table>\n",
       "</div>"
      ],
      "text/plain": [
       "     Transcript_stable_ID  Exon_region_start  Exon_region_end  \\\n",
       "3369      ENST00000262426           86510527         86511548   \n",
       "3370      ENST00000262426           86512925         86515422   \n",
       "\n",
       "      Exon_rank_in_transcript  Genomic_coding_start  Genomic_coding_end  \\\n",
       "3369                        1            86510570.0          86511548.0   \n",
       "3370                        2            86512925.0          86513085.0   \n",
       "\n",
       "      cDNA_coding_start  cDNA_coding_end  CDS_start  CDS_end  \\\n",
       "3369               44.0           1022.0        1.0    979.0   \n",
       "3370             1023.0           1183.0      980.0   1140.0   \n",
       "\n",
       "     Protein_stable_ID   Exon_stable_ID  Constitutive_exon  \n",
       "3369   ENSP00000262426  ENSE00001286040                  1  \n",
       "3370   ENSP00000262426  ENSE00001121720                  1  "
      ]
     },
     "execution_count": 9,
     "metadata": {},
     "output_type": "execute_result"
    }
   ],
   "source": [
    "exonarray"
   ]
  },
  {
   "cell_type": "code",
   "execution_count": 10,
   "metadata": {
    "button": false,
    "collapsed": false,
    "deletable": true,
    "new_sheet": false,
    "run_control": {
     "read_only": false
    }
   },
   "outputs": [
    {
     "data": {
      "text/plain": [
       "[['ENST00000262426',\n",
       "  86510527,\n",
       "  86511548,\n",
       "  1,\n",
       "  86510570.0,\n",
       "  86511548.0,\n",
       "  44.0,\n",
       "  1022.0,\n",
       "  1.0,\n",
       "  979.0,\n",
       "  'ENSP00000262426',\n",
       "  'ENSE00001286040',\n",
       "  1],\n",
       " ['ENST00000262426',\n",
       "  86512925,\n",
       "  86515422,\n",
       "  2,\n",
       "  86512925.0,\n",
       "  86513085.0,\n",
       "  1023.0,\n",
       "  1183.0,\n",
       "  980.0,\n",
       "  1140.0,\n",
       "  'ENSP00000262426',\n",
       "  'ENSE00001121720',\n",
       "  1]]"
      ]
     },
     "execution_count": 10,
     "metadata": {},
     "output_type": "execute_result"
    }
   ],
   "source": [
    "exonarray = exonarray.values.tolist()\n",
    "exonarray"
   ]
  },
  {
   "cell_type": "code",
   "execution_count": 13,
   "metadata": {
    "button": false,
    "collapsed": false,
    "deletable": true,
    "new_sheet": false,
    "run_control": {
     "read_only": false
    }
   },
   "outputs": [
    {
     "data": {
      "text/plain": [
       "2"
      ]
     },
     "execution_count": 13,
     "metadata": {},
     "output_type": "execute_result"
    }
   ],
   "source": [
    "len(exonarray)"
   ]
  },
  {
   "cell_type": "code",
   "execution_count": null,
   "metadata": {
    "button": false,
    "collapsed": true,
    "deletable": true,
    "new_sheet": false,
    "run_control": {
     "read_only": false
    }
   },
   "outputs": [],
   "source": []
  }
 ],
 "metadata": {
  "kernelspec": {
   "display_name": "Python 3",
   "language": "python",
   "name": "python3"
  },
  "language_info": {
   "codemirror_mode": {
    "name": "ipython",
    "version": 3
   },
   "file_extension": ".py",
   "mimetype": "text/x-python",
   "name": "python",
   "nbconvert_exporter": "python",
   "pygments_lexer": "ipython3",
   "version": "3.5.0"
  }
 },
 "nbformat": 4,
 "nbformat_minor": 5
}
